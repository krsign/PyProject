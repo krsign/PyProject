{
 "cells": [
  {
   "cell_type": "markdown",
   "metadata": {},
   "source": [
    "### class implementation"
   ]
  },
  {
   "cell_type": "code",
   "execution_count": 1,
   "metadata": {},
   "outputs": [],
   "source": [
    "class Old:\n",
    "    def __init__(self, name, age, fund):\n",
    "        self.name = name\n",
    "        self.age = age\n",
    "        self.fund = fund\n",
    "#         self.is_available = True\n",
    "        \n",
    "    def display(self):\n",
    "        print('name: {}, age: {}'.format(self.name, self.age))\n",
    "        \n",
    "class Young:\n",
    "    young_chap = []\n",
    "    def __init__(self, name, age, rating, review):\n",
    "        self.name = name\n",
    "        self.age = age\n",
    "        self.rating = rating\n",
    "        self.review = review\n",
    "        self.old_people = []\n",
    "        Young.young_chap.append(self)\n",
    "        \n",
    "    def new_care(self, name, age, fund):\n",
    "        if len(self.old_people) <= 3:\n",
    "            self.old_people.append(Old(name, age, fund))\n",
    "        else:\n",
    "            print('!!CareTaker can not takecare more than 4 old person!!')\n",
    "            \n",
    "    def display(self):\n",
    "        print('name: {}, age: {}, rating: {}, review: {}'.format(self.name, self.age, self.rating, self.review))"
   ]
  },
  {
   "cell_type": "markdown",
   "metadata": {},
   "source": [
    "### CareTaker1"
   ]
  },
  {
   "cell_type": "code",
   "execution_count": 2,
   "metadata": {},
   "outputs": [
    {
     "name": "stdout",
     "output_type": "stream",
     "text": [
      "!!CareTaker can not takecare more than 4 old person!!\n"
     ]
    }
   ],
   "source": [
    "# CareTaker1\n",
    "ct1 = Young('Pratik', 25, 5, 'Person who take care like family!')\n",
    "\n",
    "# Pratik going to takecare these old people but not more than 4 \n",
    "ct1.new_care('Sudhansu Chauhan', 92, 10000)\n",
    "ct1.new_care('Red Forman', 89, 10000)\n",
    "ct1.new_care('Nicolas Tesla', 79, 10000)\n",
    "ct1.new_care('Dhruv Sing', 78, 10000)\n",
    "\n",
    "# here is a limit of 4 elders per young to take care of!\n",
    "ct1.new_care('Amrinder', 87, 10000)\n",
    "\n",
    "# to check our code is working or not? our system can register only 4 old people\n",
    "# ct1.old_people"
   ]
  },
  {
   "cell_type": "markdown",
   "metadata": {},
   "source": [
    "### CareTaker2"
   ]
  },
  {
   "cell_type": "code",
   "execution_count": 3,
   "metadata": {},
   "outputs": [
    {
     "name": "stdout",
     "output_type": "stream",
     "text": [
      "!!CareTaker can not takecare more than 4 old person!!\n"
     ]
    }
   ],
   "source": [
    "# CareTaker2\n",
    "ct2 = Young('Sumit', 29, 4, 'He loves old people!')\n",
    "\n",
    "# sumit going to takecare these old people but not more than 4 \n",
    "ct2.new_care('Deepak Lal', 76, 10000)\n",
    "ct2.new_care('Sudhir Gupta', 78, 10000)\n",
    "ct2.new_care('Girish Prasad', 87, 10000)\n",
    "ct2.new_care('Sanjay Singh', 91, 10000)\n",
    "\n",
    "# here is a limit of 4 elders per young to take care of!\n",
    "ct2.new_care('Amrinder', 87, 10000)\n",
    "\n",
    "# to check our code is working or not? our system can register only 4 old people\n",
    "# ct2.old_people"
   ]
  },
  {
   "cell_type": "markdown",
   "metadata": {},
   "source": [
    "### who is taking care of the older couple."
   ]
  },
  {
   "cell_type": "code",
   "execution_count": 4,
   "metadata": {},
   "outputs": [
    {
     "name": "stdout",
     "output_type": "stream",
     "text": [
      "**********************************************************\n",
      "CareTaker :  Pratik\n",
      "Name:  Sudhansu Chauhan | Age:  92 | Fund:  10000 |\n",
      "Name:  Red Forman | Age:  89 | Fund:  10000 |\n",
      "Name:  Nicolas Tesla | Age:  79 | Fund:  10000 |\n",
      "Name:  Dhruv Sing | Age:  78 | Fund:  10000 |\n",
      "**********************************************************\n",
      "CareTaker :  Sumit\n",
      "Name: Deepak Lal |Age:  76 | Fund:  10000 |\n",
      "Name: Sudhir Gupta |Age:  78 | Fund:  10000 |\n",
      "Name: Girish Prasad |Age:  87 | Fund:  10000 |\n",
      "Name: Sanjay Singh |Age:  91 | Fund:  10000 |\n",
      "**********************************************************\n"
     ]
    }
   ],
   "source": [
    "print('**********************************************************')\n",
    "print('CareTaker : ', ct1.name)\n",
    "for n in ct1.old_people:\n",
    "    print('Name: ',n.name,'| Age: ', n.age,'| Fund: ', n.fund, '|')\n",
    "    \n",
    "print('**********************************************************')\n",
    "\n",
    "print('CareTaker : ', ct2.name)\n",
    "for n in ct2.old_people:\n",
    "    print('Name:',n.name,'|Age: ', n.age,'| Fund: ', n.fund, '|')\n",
    "    \n",
    "print('**********************************************************')"
   ]
  },
  {
   "cell_type": "markdown",
   "metadata": {},
   "source": [
    "### who all a young chap is currently taking care of."
   ]
  },
  {
   "cell_type": "code",
   "execution_count": 7,
   "metadata": {},
   "outputs": [
    {
     "name": "stdout",
     "output_type": "stream",
     "text": [
      "************!Young Chap who is helping old people!********************\n",
      "Pratik, Sumit, "
     ]
    }
   ],
   "source": [
    "print('************!Young Chap who is helping old people!********************')\n",
    "for n in Young.young_chap:\n",
    "    print(n.name, end = ', ')"
   ]
  }
 ],
 "metadata": {
  "kernelspec": {
   "display_name": "Python 3",
   "language": "python",
   "name": "python3"
  },
  "language_info": {
   "codemirror_mode": {
    "name": "ipython",
    "version": 3
   },
   "file_extension": ".py",
   "mimetype": "text/x-python",
   "name": "python",
   "nbconvert_exporter": "python",
   "pygments_lexer": "ipython3",
   "version": "3.7.6"
  }
 },
 "nbformat": 4,
 "nbformat_minor": 4
}
