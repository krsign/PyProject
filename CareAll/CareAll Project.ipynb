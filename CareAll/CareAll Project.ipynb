{
 "cells": [
  {
   "cell_type": "markdown",
   "metadata": {},
   "source": [
    "### class implementation"
   ]
  },
  {
   "cell_type": "code",
   "execution_count": 19,
   "metadata": {},
   "outputs": [],
   "source": [
    "class Old:\n",
    "    def __init__(self, name, age, fund):\n",
    "        self.name = name\n",
    "        self.age = age\n",
    "        self.fund = fund\n",
    "        \n",
    "    def display(self):\n",
    "        print('name: {}, age: {}'.format(self.name, self.age))"
   ]
  },
  {
   "cell_type": "code",
   "execution_count": 20,
   "metadata": {},
   "outputs": [],
   "source": [
    "class Young:\n",
    "    young_chap = []\n",
    "    def __init__(self, name, age, rating, review):\n",
    "        self.name = name\n",
    "        self.age = age\n",
    "        self.rating = rating\n",
    "        self.review = review\n",
    "        self.old_people = []\n",
    "        Young.young_chap.append(self)\n",
    "        \n",
    "    def new_care(self, name, age, fund):\n",
    "        if len(self.old_people) <= 3:\n",
    "            self.old_people.append(Old(name, age, fund))\n",
    "        else:\n",
    "            print('!!Space is not available because caretaker is already taking care of 4 old people!!')\n",
    "            \n",
    "    def display(self):\n",
    "        print('Name: {}, Age: {}, Rating: {}, Review: {}'.format(self.name, self.age, self.rating, self.review))"
   ]
  },
  {
   "cell_type": "markdown",
   "metadata": {},
   "source": [
    "### CareTaker1"
   ]
  },
  {
   "cell_type": "code",
   "execution_count": 21,
   "metadata": {},
   "outputs": [
    {
     "name": "stdout",
     "output_type": "stream",
     "text": [
      "!!Space is not available because caretaker is already taking care of 4 old people!!\n"
     ]
    }
   ],
   "source": [
    "# CareTaker1\n",
    "ct1 = Young('Pratik', 25, 5, 'Person who take care like family!')\n",
    "\n",
    "# Pratik going to takecare these old people but not more than 4 \n",
    "ct1.new_care('Sudhansu Chauhan', 92, 10000)\n",
    "ct1.new_care('Red Forman', 89, 10000)\n",
    "ct1.new_care('Nicolas Tesla', 79, 10000)\n",
    "ct1.new_care('Dhruv Sing', 78, 10000)\n",
    "\n",
    "# here is a limit of 4 elders per young to take care of!\n",
    "ct1.new_care('Amrinder', 87, 10000)\n",
    "\n",
    "# to check our code is working or not? our system can register only 4 old people\n",
    "# ct1.old_people"
   ]
  },
  {
   "cell_type": "markdown",
   "metadata": {},
   "source": [
    "### CareTaker2"
   ]
  },
  {
   "cell_type": "code",
   "execution_count": 22,
   "metadata": {},
   "outputs": [
    {
     "name": "stdout",
     "output_type": "stream",
     "text": [
      "!!Space is not available because caretaker is already taking care of 4 old people!!\n"
     ]
    }
   ],
   "source": [
    "# CareTaker2\n",
    "ct2 = Young('Prakash', 29, 4, 'He is very kind and hard working man!')\n",
    "\n",
    "# Praksha going to takecare these old people but not more than 4 \n",
    "ct2.new_care('Deepak Lal', 76, 10000)\n",
    "ct2.new_care('Sudhir Gupta', 78, 10000)\n",
    "ct2.new_care('Girish Prasad', 87, 10000)\n",
    "ct2.new_care('Sanjay Singh', 91, 10000)\n",
    "\n",
    "# here is a limit of 4 elders per young to take care of!\n",
    "ct2.new_care('Amrinder', 87, 10000)\n",
    "\n",
    "# to check our code is working or not? our system can register only 4 old people\n",
    "# ct2.old_people"
   ]
  },
  {
   "cell_type": "markdown",
   "metadata": {},
   "source": [
    "### who is taking care of the older couple."
   ]
  },
  {
   "cell_type": "code",
   "execution_count": 23,
   "metadata": {},
   "outputs": [
    {
     "name": "stdout",
     "output_type": "stream",
     "text": [
      "----------------------------------------------------------\n",
      "CareTaker Pratik taking care of these old people: \n",
      "Name: | Sudhansu Chauhan   |Age: 92 |Fund: 10000 |\n",
      "Name: | Red Forman   |Age: 89 |Fund: 10000 |\n",
      "Name: | Nicolas Tesla   |Age: 79 |Fund: 10000 |\n",
      "Name: | Dhruv Sing   |Age: 78 |Fund: 10000 |\n",
      "----------------------------------------------------------\n",
      "CareTaker Prakash taking care of these old people: \n",
      "Name: | Deepak Lal |Age: 76 |Fund:  10000 |\n",
      "Name: | Sudhir Gupta |Age: 78 |Fund:  10000 |\n",
      "Name: | Girish Prasad |Age: 87 |Fund:  10000 |\n",
      "Name: | Sanjay Singh |Age: 91 |Fund:  10000 |\n",
      "----------------------------------------------------------\n"
     ]
    }
   ],
   "source": [
    "print('----------------------------------------------------------')\n",
    "print('CareTaker', ct1.name, 'taking care of these old people: ')\n",
    "for n in ct1.old_people:\n",
    "    print('Name: |',n.name,'  |Age:', n.age,'|Fund:', n.fund, '|')\n",
    "\n",
    "print('----------------------------------------------------------')\n",
    "\n",
    "print('CareTaker', ct2.name, 'taking care of these old people: ')\n",
    "\n",
    "for n in ct2.old_people:\n",
    "    print('Name: |',n.name,'|Age:', n.age,'|Fund: ', n.fund, '|')\n",
    "    \n",
    "print('----------------------------------------------------------')"
   ]
  },
  {
   "cell_type": "markdown",
   "metadata": {},
   "source": [
    "### who all a young chap is currently taking care of."
   ]
  },
  {
   "cell_type": "code",
   "execution_count": 24,
   "metadata": {},
   "outputs": [
    {
     "name": "stdout",
     "output_type": "stream",
     "text": [
      "--------------------!Young Chap who is helping old people!----------------------\n",
      "Name: Pratik, Age: 25, Rating: 5, Review: Person who take care like family!\n",
      "Name: Prakash, Age: 29, Rating: 4, Review: He is very kind and hard working man!\n"
     ]
    }
   ],
   "source": [
    "print('--------------------!Young Chap who is helping old people!----------------------')\n",
    "for n in Young.young_chap:\n",
    "    n.display()"
   ]
  }
 ],
 "metadata": {
  "kernelspec": {
   "display_name": "Python 3",
   "language": "python",
   "name": "python3"
  },
  "language_info": {
   "codemirror_mode": {
    "name": "ipython",
    "version": 3
   },
   "file_extension": ".py",
   "mimetype": "text/x-python",
   "name": "python",
   "nbconvert_exporter": "python",
   "pygments_lexer": "ipython3",
   "version": "3.7.6"
  }
 },
 "nbformat": 4,
 "nbformat_minor": 4
}
